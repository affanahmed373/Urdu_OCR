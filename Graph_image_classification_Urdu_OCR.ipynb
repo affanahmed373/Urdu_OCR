{
  "cells": [
    {
      "cell_type": "markdown",
      "metadata": {
        "id": "view-in-github",
        "colab_type": "text"
      },
      "source": [
        "<a href=\"https://colab.research.google.com/github/affanahmed373/Urdu_OCR/blob/main/Graph_image_classification_Urdu_OCR.ipynb\" target=\"_parent\"><img src=\"https://colab.research.google.com/assets/colab-badge.svg\" alt=\"Open In Colab\"/></a>"
      ]
    },
    {
      "cell_type": "markdown",
      "metadata": {
        "id": "DNpAcsjfkzxq"
      },
      "source": [
        "# Overview\n",
        "The notebook is mainly done for my own benefit to better understand what graph convolutional networks do on a very basic and visual task (MNIST). \n",
        "\n",
        "The notebook is just a slightly more visual version of the MNIST example provided at https://github.com/danielegrattarola/spektral/blob/master/examples/graph_signal_classification_mnist.py as part of the [Spektral](https://github.com/danielegrattarola/spektral) package. "
      ]
    },
    {
      "cell_type": "markdown",
      "metadata": {
        "id": "JrRrRb2rkzxx"
      },
      "source": [
        "## Install Dependencies"
      ]
    },
    {
      "cell_type": "code",
      "execution_count": 1,
      "metadata": {
        "_kg_hide-output": true,
        "colab": {
          "base_uri": "https://localhost:8080/"
        },
        "id": "Y1XsjGXjkzxy",
        "outputId": "d2b50e26-2303-4685-f9a1-3d93af913951"
      },
      "outputs": [
        {
          "output_type": "stream",
          "name": "stdout",
          "text": [
            "Reading package lists... Done\n",
            "Building dependency tree       \n",
            "Reading state information... Done\n",
            "graphviz is already the newest version (2.42.2-3build2).\n",
            "libcgraph6 is already the newest version (2.42.2-3build2).\n",
            "libgraphviz-dev is already the newest version (2.42.2-3build2).\n",
            "0 upgraded, 0 newly installed, 0 to remove and 19 not upgraded.\n"
          ]
        }
      ],
      "source": [
        "!apt-get install -y graphviz libgraphviz-dev libcgraph6"
      ]
    },
    {
      "cell_type": "code",
      "execution_count": 2,
      "metadata": {
        "_kg_hide-output": true,
        "colab": {
          "base_uri": "https://localhost:8080/"
        },
        "id": "6-dWlQDRkzx0",
        "outputId": "27ab2cdb-c108-4e8b-d9a8-109aa1da4f00"
      },
      "outputs": [
        {
          "output_type": "stream",
          "name": "stdout",
          "text": [
            "Looking in indexes: https://pypi.org/simple, https://us-python.pkg.dev/colab-wheels/public/simple/\n",
            "Requirement already satisfied: spektral in /usr/local/lib/python3.8/dist-packages (1.2.0)\n",
            "Requirement already satisfied: requests in /usr/local/lib/python3.8/dist-packages (from spektral) (2.25.1)\n",
            "Requirement already satisfied: joblib in /usr/local/lib/python3.8/dist-packages (from spektral) (1.2.0)\n",
            "Requirement already satisfied: pandas in /usr/local/lib/python3.8/dist-packages (from spektral) (1.3.5)\n",
            "Requirement already satisfied: scipy in /usr/local/lib/python3.8/dist-packages (from spektral) (1.7.3)\n",
            "Requirement already satisfied: numpy in /usr/local/lib/python3.8/dist-packages (from spektral) (1.22.4)\n",
            "Requirement already satisfied: tensorflow>=2.2.0 in /usr/local/lib/python3.8/dist-packages (from spektral) (2.11.0)\n",
            "Requirement already satisfied: lxml in /usr/local/lib/python3.8/dist-packages (from spektral) (4.9.2)\n",
            "Requirement already satisfied: tqdm in /usr/local/lib/python3.8/dist-packages (from spektral) (4.64.1)\n",
            "Requirement already satisfied: networkx in /usr/local/lib/python3.8/dist-packages (from spektral) (3.0)\n",
            "Requirement already satisfied: scikit-learn in /usr/local/lib/python3.8/dist-packages (from spektral) (1.0.2)\n",
            "Requirement already satisfied: setuptools in /usr/local/lib/python3.8/dist-packages (from tensorflow>=2.2.0->spektral) (57.4.0)\n",
            "Requirement already satisfied: six>=1.12.0 in /usr/local/lib/python3.8/dist-packages (from tensorflow>=2.2.0->spektral) (1.15.0)\n",
            "Requirement already satisfied: grpcio<2.0,>=1.24.3 in /usr/local/lib/python3.8/dist-packages (from tensorflow>=2.2.0->spektral) (1.51.3)\n",
            "Requirement already satisfied: opt-einsum>=2.3.2 in /usr/local/lib/python3.8/dist-packages (from tensorflow>=2.2.0->spektral) (3.3.0)\n",
            "Requirement already satisfied: tensorboard<2.12,>=2.11 in /usr/local/lib/python3.8/dist-packages (from tensorflow>=2.2.0->spektral) (2.11.2)\n",
            "Requirement already satisfied: h5py>=2.9.0 in /usr/local/lib/python3.8/dist-packages (from tensorflow>=2.2.0->spektral) (3.1.0)\n",
            "Requirement already satisfied: tensorflow-estimator<2.12,>=2.11.0 in /usr/local/lib/python3.8/dist-packages (from tensorflow>=2.2.0->spektral) (2.11.0)\n",
            "Requirement already satisfied: typing-extensions>=3.6.6 in /usr/local/lib/python3.8/dist-packages (from tensorflow>=2.2.0->spektral) (4.5.0)\n",
            "Requirement already satisfied: packaging in /usr/local/lib/python3.8/dist-packages (from tensorflow>=2.2.0->spektral) (23.0)\n",
            "Requirement already satisfied: termcolor>=1.1.0 in /usr/local/lib/python3.8/dist-packages (from tensorflow>=2.2.0->spektral) (2.2.0)\n",
            "Requirement already satisfied: tensorflow-io-gcs-filesystem>=0.23.1 in /usr/local/lib/python3.8/dist-packages (from tensorflow>=2.2.0->spektral) (0.30.0)\n",
            "Requirement already satisfied: flatbuffers>=2.0 in /usr/local/lib/python3.8/dist-packages (from tensorflow>=2.2.0->spektral) (23.1.21)\n",
            "Requirement already satisfied: wrapt>=1.11.0 in /usr/local/lib/python3.8/dist-packages (from tensorflow>=2.2.0->spektral) (1.14.1)\n",
            "Requirement already satisfied: keras<2.12,>=2.11.0 in /usr/local/lib/python3.8/dist-packages (from tensorflow>=2.2.0->spektral) (2.11.0)\n",
            "Requirement already satisfied: google-pasta>=0.1.1 in /usr/local/lib/python3.8/dist-packages (from tensorflow>=2.2.0->spektral) (0.2.0)\n",
            "Requirement already satisfied: libclang>=13.0.0 in /usr/local/lib/python3.8/dist-packages (from tensorflow>=2.2.0->spektral) (15.0.6.1)\n",
            "Requirement already satisfied: astunparse>=1.6.0 in /usr/local/lib/python3.8/dist-packages (from tensorflow>=2.2.0->spektral) (1.6.3)\n",
            "Requirement already satisfied: absl-py>=1.0.0 in /usr/local/lib/python3.8/dist-packages (from tensorflow>=2.2.0->spektral) (1.4.0)\n",
            "Requirement already satisfied: protobuf<3.20,>=3.9.2 in /usr/local/lib/python3.8/dist-packages (from tensorflow>=2.2.0->spektral) (3.19.6)\n",
            "Requirement already satisfied: gast<=0.4.0,>=0.2.1 in /usr/local/lib/python3.8/dist-packages (from tensorflow>=2.2.0->spektral) (0.4.0)\n",
            "Requirement already satisfied: pytz>=2017.3 in /usr/local/lib/python3.8/dist-packages (from pandas->spektral) (2022.7.1)\n",
            "Requirement already satisfied: python-dateutil>=2.7.3 in /usr/local/lib/python3.8/dist-packages (from pandas->spektral) (2.8.2)\n",
            "Requirement already satisfied: urllib3<1.27,>=1.21.1 in /usr/local/lib/python3.8/dist-packages (from requests->spektral) (1.24.3)\n",
            "Requirement already satisfied: chardet<5,>=3.0.2 in /usr/local/lib/python3.8/dist-packages (from requests->spektral) (4.0.0)\n",
            "Requirement already satisfied: certifi>=2017.4.17 in /usr/local/lib/python3.8/dist-packages (from requests->spektral) (2022.12.7)\n",
            "Requirement already satisfied: idna<3,>=2.5 in /usr/local/lib/python3.8/dist-packages (from requests->spektral) (2.10)\n",
            "Requirement already satisfied: threadpoolctl>=2.0.0 in /usr/local/lib/python3.8/dist-packages (from scikit-learn->spektral) (3.1.0)\n",
            "Requirement already satisfied: wheel<1.0,>=0.23.0 in /usr/local/lib/python3.8/dist-packages (from astunparse>=1.6.0->tensorflow>=2.2.0->spektral) (0.38.4)\n",
            "Requirement already satisfied: google-auth<3,>=1.6.3 in /usr/local/lib/python3.8/dist-packages (from tensorboard<2.12,>=2.11->tensorflow>=2.2.0->spektral) (2.16.1)\n",
            "Requirement already satisfied: markdown>=2.6.8 in /usr/local/lib/python3.8/dist-packages (from tensorboard<2.12,>=2.11->tensorflow>=2.2.0->spektral) (3.4.1)\n",
            "Requirement already satisfied: google-auth-oauthlib<0.5,>=0.4.1 in /usr/local/lib/python3.8/dist-packages (from tensorboard<2.12,>=2.11->tensorflow>=2.2.0->spektral) (0.4.6)\n",
            "Requirement already satisfied: tensorboard-plugin-wit>=1.6.0 in /usr/local/lib/python3.8/dist-packages (from tensorboard<2.12,>=2.11->tensorflow>=2.2.0->spektral) (1.8.1)\n",
            "Requirement already satisfied: tensorboard-data-server<0.7.0,>=0.6.0 in /usr/local/lib/python3.8/dist-packages (from tensorboard<2.12,>=2.11->tensorflow>=2.2.0->spektral) (0.6.1)\n",
            "Requirement already satisfied: werkzeug>=1.0.1 in /usr/local/lib/python3.8/dist-packages (from tensorboard<2.12,>=2.11->tensorflow>=2.2.0->spektral) (1.0.1)\n",
            "Requirement already satisfied: cachetools<6.0,>=2.0.0 in /usr/local/lib/python3.8/dist-packages (from google-auth<3,>=1.6.3->tensorboard<2.12,>=2.11->tensorflow>=2.2.0->spektral) (5.3.0)\n",
            "Requirement already satisfied: pyasn1-modules>=0.2.1 in /usr/local/lib/python3.8/dist-packages (from google-auth<3,>=1.6.3->tensorboard<2.12,>=2.11->tensorflow>=2.2.0->spektral) (0.2.8)\n",
            "Requirement already satisfied: rsa<5,>=3.1.4 in /usr/local/lib/python3.8/dist-packages (from google-auth<3,>=1.6.3->tensorboard<2.12,>=2.11->tensorflow>=2.2.0->spektral) (4.9)\n",
            "Requirement already satisfied: requests-oauthlib>=0.7.0 in /usr/local/lib/python3.8/dist-packages (from google-auth-oauthlib<0.5,>=0.4.1->tensorboard<2.12,>=2.11->tensorflow>=2.2.0->spektral) (1.3.1)\n",
            "Requirement already satisfied: importlib-metadata>=4.4 in /usr/local/lib/python3.8/dist-packages (from markdown>=2.6.8->tensorboard<2.12,>=2.11->tensorflow>=2.2.0->spektral) (6.0.0)\n",
            "Requirement already satisfied: zipp>=0.5 in /usr/local/lib/python3.8/dist-packages (from importlib-metadata>=4.4->markdown>=2.6.8->tensorboard<2.12,>=2.11->tensorflow>=2.2.0->spektral) (3.14.0)\n",
            "Requirement already satisfied: pyasn1<0.5.0,>=0.4.6 in /usr/local/lib/python3.8/dist-packages (from pyasn1-modules>=0.2.1->google-auth<3,>=1.6.3->tensorboard<2.12,>=2.11->tensorflow>=2.2.0->spektral) (0.4.8)\n",
            "Requirement already satisfied: oauthlib>=3.0.0 in /usr/local/lib/python3.8/dist-packages (from requests-oauthlib>=0.7.0->google-auth-oauthlib<0.5,>=0.4.1->tensorboard<2.12,>=2.11->tensorflow>=2.2.0->spektral) (3.2.2)\n"
          ]
        }
      ],
      "source": [
        "# !pip install git+https://github.com/danielegrattarola/spektral\n",
        "! pip install spektral"
      ]
    },
    {
      "cell_type": "code",
      "execution_count": 18,
      "metadata": {
        "id": "axnPtuTykzx0"
      },
      "outputs": [],
      "source": [
        "import numpy as np\n",
        "import tensorflow as tf\n",
        "from tensorflow.keras import Model\n",
        "from tensorflow.keras.layers import Dense\n",
        "from tensorflow.keras.losses import SparseCategoricalCrossentropy\n",
        "from tensorflow.keras.metrics import sparse_categorical_accuracy\n",
        "from tensorflow.keras.optimizers import Adam\n",
        "from tensorflow.keras.regularizers import l2\n",
        "\n",
        "from spektral.data import MixedLoader\n",
        "from spektral.datasets.mnist import MNIST\n",
        "from spektral.layers import GCNConv, GlobalSumPool\n",
        "from spektral.utils.sparse import sp_matrix_to_sp_tensor\n"
      ]
    },
    {
      "cell_type": "markdown",
      "metadata": {
        "id": "48CUKfHCkzx2"
      },
      "source": [
        "## Libraries\n",
        "Here are the libraries and imports to make the model"
      ]
    },
    {
      "cell_type": "code",
      "execution_count": 4,
      "metadata": {
        "id": "RV5rOevekzx3"
      },
      "outputs": [],
      "source": [
        "from keras import Input, Model\n",
        "from keras.callbacks import EarlyStopping\n",
        "from keras.layers import Dense, Flatten\n",
        "from keras.optimizers import Adam\n",
        "from keras.regularizers import l2\n",
        "\n",
        "from spektral.datasets.mnist import MNIST\n",
        "from spektral.layers import GeneralConv\n",
        "from spektral.utils import sp_matrix_to_sp_tensor\n",
        "from spektral.utils import normalized_laplacian\n",
        "\n",
        "from spektral.data import MixedLoader\n",
        "from spektral.datasets.mnist import MNIST\n",
        "from spektral.layers import GCNConv, GlobalSumPool\n",
        "from spektral.utils.sparse import sp_matrix_to_sp_tensor"
      ]
    },
    {
      "cell_type": "code",
      "execution_count": 5,
      "metadata": {
        "id": "IezYbe3Skzx4"
      },
      "outputs": [],
      "source": [
        "# Parameters\n",
        "l2_reg = 5e-4         # Regularization rate for l2\n",
        "learning_rate = 1e-3  # Learning rate for SGD\n",
        "batch_size = 32       # Batch size\n",
        "epochs = 5        # Number of training epochs\n",
        "es_patience = 200     # Patience fot early stopping"
      ]
    },
    {
      "cell_type": "code",
      "execution_count": 6,
      "metadata": {
        "colab": {
          "base_uri": "https://localhost:8080/"
        },
        "id": "iCETR8Y7kzx4",
        "outputId": "90127f09-7a2d-4816-f255-efae68bc8748"
      },
      "outputs": [
        {
          "output_type": "stream",
          "name": "stderr",
          "text": [
            "<ipython-input-6-131ead238607>:10: UserWarning: you are shuffling a 'MNIST' object which is not a subclass of 'Sequence'; `shuffle` is not guaranteed to behave correctly. E.g., non-numpy array/tensor objects with view semantics may contain duplicates after shuffling.\n",
            "  np.random.shuffle(data_tr)\n"
          ]
        }
      ],
      "source": [
        "data = MNIST()\n",
        "\n",
        "# The adjacency matrix is stored as an attribute of the dataset.\n",
        "# Create filter for GCN and convert to sparse tensor.\n",
        "data.a = GCNConv.preprocess(data.a)\n",
        "data.a = sp_matrix_to_sp_tensor(data.a)\n",
        "\n",
        "# Train/valid/test split\n",
        "data_tr, data_te = data[:-10000], data[-10000:]\n",
        "np.random.shuffle(data_tr)\n",
        "data_tr, data_va = data_tr[:-10000], data_tr[-10000:]\n",
        "\n",
        "# We use a MixedLoader since the dataset is in mixed mode\n",
        "loader_tr = MixedLoader(data_tr, batch_size=batch_size, epochs=epochs)\n",
        "loader_va = MixedLoader(data_va, batch_size=batch_size)\n",
        "loader_te = MixedLoader(data_te, batch_size=batch_size)\n",
        "\n",
        "N = data."
      ]
    },
    {
      "cell_type": "markdown",
      "metadata": {
        "id": "ZXymOwx0kzx5"
      },
      "source": [
        "## Goal\n",
        "The goal of the problem is to correctly classify the digits using the intensity values as the nodes and the neighborhood relationships as the edges. When we visualize the adjacency matrix we can see the effect of a simply unraveled 2D array"
      ]
    },
    {
      "cell_type": "code",
      "execution_count": 12,
      "metadata": {
        "colab": {
          "base_uri": "https://localhost:8080/",
          "height": 835
        },
        "id": "RHBvd65Vkzx6",
        "outputId": "2b02c2ff-99e5-45e4-b984-f0b3267ab36b"
      },
      "outputs": [
        {
          "output_type": "stream",
          "name": "stdout",
          "text": [
            "SparseTensor(indices=tf.Tensor(\n",
            "[[  0   0]\n",
            " [  0   1]\n",
            " [  0   2]\n",
            " ...\n",
            " [783 781]\n",
            " [783 782]\n",
            " [783 783]], shape=(7180, 2), dtype=int64), values=tf.Tensor([0.11111111 0.11111111 0.10540926 ... 0.11111111 0.11111111 0.11111111], shape=(7180,), dtype=float64), dense_shape=tf.Tensor([784 784], shape=(2,), dtype=int64)) adjacency matrix\n"
          ]
        },
        {
          "output_type": "execute_result",
          "data": {
            "text/plain": [
              "<matplotlib.image.AxesImage at 0x7f3dfc6003a0>"
            ]
          },
          "metadata": {},
          "execution_count": 12
        },
        {
          "output_type": "display_data",
          "data": {
            "text/plain": [
              "<Figure size 750x750 with 1 Axes>"
            ],
            "image/png": "[encoded data removed]"
          },
          "metadata": {}
        }
      ],
      "source": [
        "print(data.a, 'adjacency matrix')\n",
        "plt.matshow(tf.sparse.to_dense(data.a))\n",
        "# tf.sparse.to_dense(adjacency_matrix)"
      ]
    },
    {
      "cell_type": "markdown",
      "metadata": {
        "id": "XHsE_93vkzx6"
      },
      "source": [
        "### Label Nodes and Show Connections\n",
        "Here we can visualize the topology a bit better and see what the graph actually looks like."
      ]
    },
    {
      "cell_type": "code",
      "execution_count": 13,
      "metadata": {
        "id": "fLFSu3i3kzx7"
      },
      "outputs": [],
      "source": [
        "xx, yy = np.meshgrid(np.arange(28), np.arange(28))\n",
        "node_id = ['X:{:02d}_Y:{:02d}'.format(x, y) for x, y in zip(xx.ravel(), yy.ravel())]"
      ]
    },
    {
      "cell_type": "code",
      "source": [
        "print(*data.a[300])"
      ],
      "metadata": {
        "colab": {
          "base_uri": "https://localhost:8080/",
          "height": 165
        },
        "id": "Eh_gMn01yWc0",
        "outputId": "72f52ca8-35f1-48e6-b2a3-d7522e0dc986"
      },
      "execution_count": 16,
      "outputs": [
        {
          "output_type": "error",
          "ename": "TypeError",
          "evalue": "ignored",
          "traceback": [
            "\u001b[0;31m---------------------------------------------------------------------------\u001b[0m",
            "\u001b[0;31mTypeError\u001b[0m                                 Traceback (most recent call last)",
            "\u001b[0;32m<ipython-input-16-017141124fa9>\u001b[0m in \u001b[0;36m<module>\u001b[0;34m\u001b[0m\n\u001b[0;32m----> 1\u001b[0;31m \u001b[0mprint\u001b[0m\u001b[0;34m(\u001b[0m\u001b[0;34m*\u001b[0m\u001b[0mdata\u001b[0m\u001b[0;34m.\u001b[0m\u001b[0ma\u001b[0m\u001b[0;34m[\u001b[0m\u001b[0;36m300\u001b[0m\u001b[0;34m]\u001b[0m\u001b[0;34m)\u001b[0m\u001b[0;34m\u001b[0m\u001b[0;34m\u001b[0m\u001b[0m\n\u001b[0m",
            "\u001b[0;31mTypeError\u001b[0m: 'SparseTensor' object is not subscriptable"
          ]
        }
      ]
    },
    {
      "cell_type": "code",
      "execution_count": 14,
      "metadata": {
        "colab": {
          "base_uri": "https://localhost:8080/",
          "height": 217
        },
        "id": "FKSRP9rJkzx7",
        "outputId": "61e041bf-4f02-4ea8-af8a-5770d66d0c6a"
      },
      "outputs": [
        {
          "output_type": "stream",
          "name": "stdout",
          "text": [
            "X:20_Y:10 is connected to\n"
          ]
        },
        {
          "output_type": "error",
          "ename": "TypeError",
          "evalue": "ignored",
          "traceback": [
            "\u001b[0;31m---------------------------------------------------------------------------\u001b[0m",
            "\u001b[0;31mTypeError\u001b[0m                                 Traceback (most recent call last)",
            "\u001b[0;32m<ipython-input-14-d8311f225d70>\u001b[0m in \u001b[0;36m<module>\u001b[0;34m\u001b[0m\n\u001b[1;32m      1\u001b[0m \u001b[0mprint\u001b[0m\u001b[0;34m(\u001b[0m\u001b[0mnode_id\u001b[0m\u001b[0;34m[\u001b[0m\u001b[0;36m300\u001b[0m\u001b[0;34m]\u001b[0m\u001b[0;34m,\u001b[0m \u001b[0;34m'is connected to'\u001b[0m\u001b[0;34m)\u001b[0m\u001b[0;34m\u001b[0m\u001b[0;34m\u001b[0m\u001b[0m\n\u001b[0;32m----> 2\u001b[0;31m \u001b[0;32mfor\u001b[0m \u001b[0mrow\u001b[0m\u001b[0;34m,\u001b[0m \u001b[0mcol\u001b[0m \u001b[0;32min\u001b[0m \u001b[0mzip\u001b[0m\u001b[0;34m(\u001b[0m\u001b[0;34m*\u001b[0m\u001b[0mdata\u001b[0m\u001b[0;34m.\u001b[0m\u001b[0ma\u001b[0m\u001b[0;34m[\u001b[0m\u001b[0;36m300\u001b[0m\u001b[0;34m]\u001b[0m\u001b[0;34m.\u001b[0m\u001b[0mnonzero\u001b[0m\u001b[0;34m(\u001b[0m\u001b[0;34m)\u001b[0m\u001b[0;34m)\u001b[0m\u001b[0;34m:\u001b[0m\u001b[0;34m\u001b[0m\u001b[0;34m\u001b[0m\u001b[0m\n\u001b[0m\u001b[1;32m      3\u001b[0m     \u001b[0mprint\u001b[0m\u001b[0;34m(\u001b[0m\u001b[0mcol\u001b[0m\u001b[0;34m,\u001b[0m \u001b[0;34m'->'\u001b[0m\u001b[0;34m,\u001b[0m \u001b[0mnode_id\u001b[0m\u001b[0;34m[\u001b[0m\u001b[0mcol\u001b[0m\u001b[0;34m]\u001b[0m\u001b[0;34m)\u001b[0m\u001b[0;34m\u001b[0m\u001b[0;34m\u001b[0m\u001b[0m\n",
            "\u001b[0;31mTypeError\u001b[0m: 'SparseTensor' object is not subscriptable"
          ]
        }
      ],
      "source": [
        "print(node_id[300], 'is connected to')\n",
        "for row, col in zip(*data.a[300].nonzero()):\n",
        "    print(col, '->', node_id[col])"
      ]
    },
    {
      "cell_type": "code",
      "execution_count": null,
      "metadata": {
        "id": "UtdkmbJHkzx8"
      },
      "outputs": [],
      "source": [
        "G = nx.from_scipy_sparse_matrix(data.a[:10, :10])\n",
        "for k, pix_val in zip(G.nodes, X_train[0]):\n",
        "    G.nodes[k]['label'] = node_id[k]\n",
        "draw_graph_mpl(G);"
      ]
    },
    {
      "cell_type": "markdown",
      "metadata": {
        "id": "ueKo8eXHkzx8"
      },
      "source": [
        "- Show 12 rows of the network"
      ]
    },
    {
      "cell_type": "code",
      "execution_count": null,
      "metadata": {
        "id": "5pR4Geq6kzx8"
      },
      "outputs": [],
      "source": [
        "MAX_NODE = 28*12\n",
        "G = nx.from_scipy_sparse_matrix(adj[:MAX_NODE, :MAX_NODE])\n",
        "for k, pix_val in zip(G.nodes, X_train[0]):\n",
        "    G.nodes[k]['label'] = node_id[k]\n",
        "    G.nodes[k]['color'] = 'red' if pix_val>0.5 else 'green'\n",
        "draw_graph_mpl(G);"
      ]
    },
    {
      "cell_type": "markdown",
      "metadata": {
        "id": "ggMyPFy8kzx9"
      },
      "source": [
        "- Show network (using the X, Y coordinates)"
      ]
    },
    {
      "cell_type": "code",
      "execution_count": null,
      "metadata": {
        "id": "W7rPNaZqkzx9"
      },
      "outputs": [],
      "source": [
        "G = nx.from_scipy_sparse_matrix(adj)\n",
        "for k, pix_val in zip(G.nodes, X_train[0]):\n",
        "    G.nodes[k]['label'] = ''\n",
        "    G.nodes[k]['color'] = 'red' if pix_val>0.5 else 'green'\n",
        "draw_graph_mpl(G, pos=np.stack([xx.ravel(), yy.ravel()], -1));"
      ]
    },
    {
      "cell_type": "markdown",
      "metadata": {
        "id": "xj8kQXYVkzx9"
      },
      "source": [
        "# Model Building\n",
        "Now we can build the model which uses the graph topology shown above as the basis. We feed the topology in as a constant tensor ($A_{in}$) and the convolutions occur across this topology. "
      ]
    },
    {
      "cell_type": "code",
      "execution_count": null,
      "metadata": {
        "id": "8h33vC-Wkzx-"
      },
      "outputs": [],
      "source": [
        "fltr = normalized_laplacian(data.a)\n",
        "\n",
        "# Model definition\n",
        "X_in = Input(shape=(N, F))\n",
        "# Pass A as a fixed tensor, otherwise Keras will complain about inputs of\n",
        "# different rank.\n",
        "A_in = Input(tensor=sp_matrix_to_sp_tensor(fltr))\n",
        "\n",
        "graph_conv_1 = GeneralConv(32,\n",
        "                       activation='elu',\n",
        "                       kernel_regularizer=l2(l2_reg),\n",
        "                       use_bias=True)([X_in, A_in])\n",
        "graph_conv_2 = GeneralConv(32,\n",
        "                       activation='elu',\n",
        "                       kernel_regularizer=l2(l2_reg),\n",
        "                       use_bias=True)([graph_conv_1, A_in])\n",
        "flatten = Flatten()(graph_conv_2)\n",
        "fc = Dense(512, activation='relu')(flatten)\n",
        "output = Dense(n_out, activation='softmax')(fc)\n",
        "\n",
        "# Build model\n",
        "model = Model(inputs=[X_in, A_in], outputs=output)\n",
        "optimizer = Adam(lr=learning_rate)\n",
        "model.compile(optimizer=optimizer,\n",
        "              loss='sparse_categorical_crossentropy',\n",
        "              metrics=['acc'])\n",
        "model.summary()"
      ]
    },
    {
      "cell_type": "code",
      "execution_count": null,
      "metadata": {
        "_cell_guid": "b1076dfc-b9ad-4769-8c92-a6c4dae69d19",
        "_uuid": "8f2839f25d086af736a60e9eeb907d3b93b6e0e5",
        "id": "5eLqPL35kzx-"
      },
      "outputs": [],
      "source": [
        "# Train model\n",
        "validation_data = (X_val, y_val)\n",
        "model.fit(X_train,\n",
        "          y_train,\n",
        "          batch_size=batch_size,\n",
        "          validation_data=validation_data,\n",
        "          epochs=epochs,\n",
        "          callbacks=[\n",
        "              EarlyStopping(patience=es_patience, restore_best_weights=True)\n",
        "          ])"
      ]
    },
    {
      "cell_type": "code",
      "execution_count": null,
      "metadata": {
        "_cell_guid": "79c7e3d0-c299-4dcb-8224-4455121ee9b0",
        "_uuid": "d629ff2d2480ee46fbb7e2d37f6b5fab8052498a",
        "id": "su9Vc8U3kzx_"
      },
      "outputs": [],
      "source": [
        "# Evaluate model\n",
        "print('Evaluating model.')\n",
        "eval_results = model.evaluate(X_test,\n",
        "                              y_test,\n",
        "                              batch_size=batch_size)\n",
        "print('Test loss: {}\\n'\n",
        "      'Test acc: {}'.format(*eval_results))"
      ]
    },
    {
      "cell_type": "markdown",
      "metadata": {
        "id": "Q-3V0muekzx_"
      },
      "source": [
        "# What did the model actually learn?\n",
        "We can now try and reassemble what the model actually learnt by exporting the intermediate layers"
      ]
    },
    {
      "cell_type": "markdown",
      "metadata": {
        "id": "929LTYPWkzyA"
      },
      "source": [
        "# Weights\n",
        "Not sure exactly how to interpret these but we can show them easily enough"
      ]
    },
    {
      "cell_type": "code",
      "execution_count": null,
      "metadata": {
        "id": "a46DvAookzyA"
      },
      "outputs": [],
      "source": [
        "W, b = model.layers[2].get_weights()\n",
        "print(W.shape, b.shape)\n",
        "fig, (ax1, ax2) = plt.subplots(1, 2, figsize=(8, 4))\n",
        "ax1.bar(np.arange(W.shape[1]), W[0])\n",
        "ax2.bar(np.arange(W.shape[1]), b)"
      ]
    },
    {
      "cell_type": "code",
      "execution_count": null,
      "metadata": {
        "id": "V21ztOw9kzyB"
      },
      "outputs": [],
      "source": [
        "W, b = model.layers[3].get_weights()\n",
        "print(W.shape, b.shape)\n",
        "fig, (ax1, ax2) = plt.subplots(1, 2, figsize=(8, 4))\n",
        "ax1.imshow(W, vmin=-1, vmax=1, cmap='RdBu')\n",
        "ax2.bar(np.arange(W.shape[1]), b)"
      ]
    },
    {
      "cell_type": "markdown",
      "metadata": {
        "id": "SsS8yYbykzyB"
      },
      "source": [
        "## Show intermediate output values\n",
        "Here we can rearrange the output of the graph convolutions to see if the model is learning similar sorts of features to the standard convolutional neural networks"
      ]
    },
    {
      "cell_type": "code",
      "execution_count": null,
      "metadata": {
        "id": "v4hq6ciQkzyC"
      },
      "outputs": [],
      "source": [
        "i_model = Model(inputs=[X_in, A_in], outputs=[graph_conv_1, graph_conv_2])"
      ]
    },
    {
      "cell_type": "code",
      "execution_count": null,
      "metadata": {
        "id": "CmVBUwDCkzyC"
      },
      "outputs": [],
      "source": [
        "gc1_out, gc2_out = i_model.predict(X_test[:32])"
      ]
    },
    {
      "cell_type": "code",
      "execution_count": 17,
      "metadata": {
        "colab": {
          "base_uri": "https://localhost:8080/",
          "height": 1000
        },
        "id": "qjkTFpY4kzyD",
        "outputId": "96b4478a-67b9-402b-ba7b-0b3d49468e98"
      },
      "outputs": [
        {
          "output_type": "error",
          "ename": "NameError",
          "evalue": "ignored",
          "traceback": [
            "\u001b[0;31m---------------------------------------------------------------------------\u001b[0m",
            "\u001b[0;31mNameError\u001b[0m                                 Traceback (most recent call last)",
            "\u001b[0;32m<ipython-input-17-99baa35289cc>\u001b[0m in \u001b[0;36m<module>\u001b[0;34m\u001b[0m\n\u001b[1;32m      1\u001b[0m \u001b[0mfig\u001b[0m\u001b[0;34m,\u001b[0m \u001b[0mm_axs\u001b[0m \u001b[0;34m=\u001b[0m \u001b[0mplt\u001b[0m\u001b[0;34m.\u001b[0m\u001b[0msubplots\u001b[0m\u001b[0;34m(\u001b[0m\u001b[0;36m4\u001b[0m\u001b[0;34m,\u001b[0m \u001b[0;36m3\u001b[0m\u001b[0;34m,\u001b[0m \u001b[0mfigsize\u001b[0m\u001b[0;34m=\u001b[0m\u001b[0;34m(\u001b[0m\u001b[0;36m20\u001b[0m\u001b[0;34m,\u001b[0m \u001b[0;36m15\u001b[0m\u001b[0;34m)\u001b[0m\u001b[0;34m)\u001b[0m\u001b[0;34m\u001b[0m\u001b[0;34m\u001b[0m\u001b[0m\n\u001b[1;32m      2\u001b[0m \u001b[0;32mfor\u001b[0m \u001b[0mi\u001b[0m\u001b[0;34m,\u001b[0m \u001b[0;34m(\u001b[0m\u001b[0max1\u001b[0m\u001b[0;34m,\u001b[0m \u001b[0max2\u001b[0m\u001b[0;34m,\u001b[0m \u001b[0max3\u001b[0m\u001b[0;34m)\u001b[0m \u001b[0;32min\u001b[0m \u001b[0menumerate\u001b[0m\u001b[0;34m(\u001b[0m\u001b[0mm_axs\u001b[0m\u001b[0;34m)\u001b[0m\u001b[0;34m:\u001b[0m\u001b[0;34m\u001b[0m\u001b[0;34m\u001b[0m\u001b[0m\n\u001b[0;32m----> 3\u001b[0;31m     \u001b[0max1\u001b[0m\u001b[0;34m.\u001b[0m\u001b[0mimshow\u001b[0m\u001b[0;34m(\u001b[0m\u001b[0mX_test\u001b[0m\u001b[0;34m[\u001b[0m\u001b[0mi\u001b[0m\u001b[0;34m]\u001b[0m\u001b[0;34m.\u001b[0m\u001b[0mreshape\u001b[0m\u001b[0;34m(\u001b[0m\u001b[0;34m(\u001b[0m\u001b[0;36m28\u001b[0m\u001b[0;34m,\u001b[0m \u001b[0;36m28\u001b[0m\u001b[0;34m)\u001b[0m\u001b[0;34m)\u001b[0m\u001b[0;34m)\u001b[0m\u001b[0;34m\u001b[0m\u001b[0;34m\u001b[0m\u001b[0m\n\u001b[0m\u001b[1;32m      4\u001b[0m     \u001b[0mgc_stack\u001b[0m \u001b[0;34m=\u001b[0m \u001b[0mgc1_out\u001b[0m\u001b[0;34m[\u001b[0m\u001b[0mi\u001b[0m\u001b[0;34m]\u001b[0m\u001b[0;34m.\u001b[0m\u001b[0mreshape\u001b[0m\u001b[0;34m(\u001b[0m\u001b[0;34m(\u001b[0m\u001b[0;36m28\u001b[0m\u001b[0;34m,\u001b[0m \u001b[0;36m28\u001b[0m\u001b[0;34m,\u001b[0m \u001b[0;34m-\u001b[0m\u001b[0;36m1\u001b[0m\u001b[0;34m)\u001b[0m\u001b[0;34m)\u001b[0m\u001b[0;34m.\u001b[0m\u001b[0mswapaxes\u001b[0m\u001b[0;34m(\u001b[0m\u001b[0;36m0\u001b[0m\u001b[0;34m,\u001b[0m \u001b[0;36m2\u001b[0m\u001b[0;34m)\u001b[0m\u001b[0;34m.\u001b[0m\u001b[0mswapaxes\u001b[0m\u001b[0;34m(\u001b[0m\u001b[0;36m1\u001b[0m\u001b[0;34m,\u001b[0m \u001b[0;36m2\u001b[0m\u001b[0;34m)\u001b[0m\u001b[0;34m\u001b[0m\u001b[0;34m\u001b[0m\u001b[0m\n\u001b[1;32m      5\u001b[0m     \u001b[0max2\u001b[0m\u001b[0;34m.\u001b[0m\u001b[0mimshow\u001b[0m\u001b[0;34m(\u001b[0m\u001b[0mmontage\u001b[0m\u001b[0;34m(\u001b[0m\u001b[0mgc_stack\u001b[0m\u001b[0;34m)\u001b[0m\u001b[0;34m,\u001b[0m \u001b[0mvmin\u001b[0m\u001b[0;34m=\u001b[0m\u001b[0;34m-\u001b[0m\u001b[0;36m0.5\u001b[0m\u001b[0;34m,\u001b[0m \u001b[0mvmax\u001b[0m\u001b[0;34m=\u001b[0m\u001b[0;36m0.5\u001b[0m\u001b[0;34m,\u001b[0m \u001b[0mcmap\u001b[0m\u001b[0;34m=\u001b[0m\u001b[0;34m'RdBu'\u001b[0m\u001b[0;34m)\u001b[0m\u001b[0;34m\u001b[0m\u001b[0;34m\u001b[0m\u001b[0m\n",
            "\u001b[0;31mNameError\u001b[0m: name 'X_test' is not defined"
          ]
        },
        {
          "output_type": "display_data",
          "data": {
            "text/plain": [
              "<Figure size 2500x1875 with 12 Axes>"
            ],
            "image/png": "[encoded data removed]"
          },
          "metadata": {}
        }
      ],
      "source": [
        "fig, m_axs = plt.subplots(4, 3, figsize=(20, 15))\n",
        "for i, (ax1, ax2, ax3) in enumerate(m_axs):\n",
        "    ax1.imshow(X_test[i].reshape((28, 28)))\n",
        "    gc_stack = gc1_out[i].reshape((28, 28, -1)).swapaxes(0, 2).swapaxes(1, 2)\n",
        "    ax2.imshow(montage(gc_stack), vmin=-0.5, vmax=0.5, cmap='RdBu')\n",
        "    ax2.set_title(i_model.output_names[0])\n",
        "    gc_stack = gc2_out[i].reshape((28, 28, -1)).swapaxes(0, 2).swapaxes(1, 2)\n",
        "    ax3.imshow(montage(gc_stack), vmin=-0.5, vmax=0.5, cmap='RdBu')\n",
        "    ax3.set_title(i_model.output_names[1])"
      ]
    },
    {
      "cell_type": "code",
      "execution_count": null,
      "metadata": {
        "id": "HXlbkHFEkzyD"
      },
      "outputs": [],
      "source": []
    }
  ],
  "metadata": {
    "kernelspec": {
      "display_name": "Python 3",
      "language": "python",
      "name": "python3"
    },
    "language_info": {
      "codemirror_mode": {
        "name": "ipython",
        "version": 3
      },
      "file_extension": ".py",
      "mimetype": "text/x-python",
      "name": "python",
      "nbconvert_exporter": "python",
      "pygments_lexer": "ipython3",
      "version": "3.6.6"
    },
    "colab": {
      "provenance": [],
      "include_colab_link": true
    }
  },
  "nbformat": 4,
  "nbformat_minor": 0
}